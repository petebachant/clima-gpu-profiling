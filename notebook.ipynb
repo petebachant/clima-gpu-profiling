{
 "cells": [
  {
   "cell_type": "code",
   "execution_count": null,
   "id": "0",
   "metadata": {},
   "outputs": [],
   "source": [
    "import Pkg\n",
    "Pkg.activate(\".\")  # Activates the Project.toml in current directory\n",
    "Pkg.instantiate() # Installs all dependencies\n",
    "Pkg.status()       # Shows the activated environment"
   ]
  },
  {
   "cell_type": "code",
   "execution_count": null,
   "id": "1",
   "metadata": {},
   "outputs": [],
   "source": [
    "using Revise"
   ]
  },
  {
   "cell_type": "code",
   "execution_count": null,
   "id": "2",
   "metadata": {},
   "outputs": [],
   "source": [
    "ENV[\"CLIMACOMMS_DEVICE\"] = \"CUDA\""
   ]
  },
  {
   "cell_type": "code",
   "execution_count": null,
   "id": "3",
   "metadata": {},
   "outputs": [],
   "source": [
    "# Check SLURM environment variables\n",
    "env_vars = [\"SLURM_JOB_ID\", \"SLURM_JOB_GPUS\", \"CUDA_VISIBLE_DEVICES\", \"SLURM_GPUS_ON_NODE\"]\n",
    "for var in env_vars\n",
    "    val = get(ENV, var, \"not set\")\n",
    "    println(\"$var: $val\")\n",
    "end"
   ]
  },
  {
   "cell_type": "code",
   "execution_count": null,
   "id": "4",
   "metadata": {},
   "outputs": [],
   "source": [
    "import CUDA\n",
    "\n",
    "if CUDA.functional()\n",
    "    # Create arrays on GPU\n",
    "    x_gpu = CUDA.randn(1000, 1000)\n",
    "    y_gpu = CUDA.randn(1000, 1000)\n",
    "\n",
    "    # Perform computation on GPU\n",
    "    z_gpu = x_gpu * y_gpu\n",
    "\n",
    "    println(\"GPU computation successful!\")\n",
    "    println(\"Result size: \", size(z_gpu))\n",
    "    println(\"Result type: \", typeof(z_gpu))\n",
    "    println(\"Device: \", CUDA.device(z_gpu))\n",
    "else\n",
    "    println(\"GPU not available - running on CPU\")\n",
    "end"
   ]
  },
  {
   "cell_type": "code",
   "execution_count": null,
   "id": "5",
   "metadata": {},
   "outputs": [],
   "source": [
    "if CUDA.functional()\n",
    "    for (i, dev) in enumerate(CUDA.devices())\n",
    "        CUDA.device!(dev)\n",
    "        println(\"GPU $i:\")\n",
    "        println(\"  Name: \", CUDA.name(dev))\n",
    "        println(\"  Compute capability: \", CUDA.capability(dev))\n",
    "        println(\"  Total memory: \", CUDA.totalmem(dev) ÷ (1024^2), \" MB\")\n",
    "        println(\"  Free memory: \", CUDA.available_memory() ÷ (1024^2), \" MB\")\n",
    "    end\n",
    "end"
   ]
  },
  {
   "cell_type": "code",
   "execution_count": null,
   "id": "6",
   "metadata": {},
   "outputs": [],
   "source": [
    "# Let's set up a basic case so we can profile/benchmark in the notebook\n",
    "import ClimaAtmos as CA\n",
    "\n",
    "config = CA.AtmosConfig(\n",
    "    [\"ClimaAtmos.jl/config/default_configs/default_config.yml\"],\n",
    "    job_id=\"notebook-debugging\"\n",
    ")\n",
    "\n",
    "simulation = CA.get_simulation(config)\n",
    "(; integrator) = simulation;\n",
    "Y₀ = deepcopy(integrator.u);\n",
    "@info \"Compiling benchmark_step!...\"\n",
    "# turn on renaming of CUDA kernels based on stack trace\n",
    "profile_rename_kernel_names() = false\n",
    "CA.benchmark_step!(integrator, Y₀); # compile first"
   ]
  },
  {
   "cell_type": "code",
   "execution_count": null,
   "id": "7",
   "metadata": {},
   "outputs": [],
   "source": [
    "CA.benchmark_step!(integrator, Y₀);"
   ]
  }
 ],
 "metadata": {
  "kernelspec": {
   "display_name": "Julia 1.11.5",
   "language": "julia",
   "name": "julia-1.11"
  },
  "language_info": {
   "file_extension": ".jl",
   "mimetype": "application/julia",
   "name": "julia",
   "version": "1.11.5"
  }
 },
 "nbformat": 4,
 "nbformat_minor": 5
}
